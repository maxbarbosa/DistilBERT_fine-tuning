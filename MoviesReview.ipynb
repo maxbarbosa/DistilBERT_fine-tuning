{
  "cells": [
    {
      "cell_type": "markdown",
      "metadata": {
        "id": "v7Y35AcmuAK9"
      },
      "source": [
        "Universidade Federal da Paraíba<br>\n",
        "Centro de Informática<br>\n",
        "Bacharelado em Ciência de Dados e Inteligência Artificial<br>\n",
        "Disciplina: Processamento de Linguagem Natural<br>\n",
        "Docente: Yuri Malheiros<br>\n",
        "Discente: Maxwel de Andrade Barbosa<br>\n"
      ]
    },
    {
      "cell_type": "markdown",
      "metadata": {
        "id": "dNT8bDtOuAK_"
      },
      "source": [
        "<center> <h3> Fine-Tuning de um modelo DistilBERT para análise de sentimentos em avaliações de filmes"
      ]
    },
    {
      "cell_type": "markdown",
      "metadata": {
        "id": "rcqyF1ONuALA"
      },
      "source": [
        "## Importação dos dados"
      ]
    },
    {
      "cell_type": "code",
      "execution_count": 15,
      "metadata": {
        "colab": {
          "base_uri": "https://localhost:8080/"
        },
        "id": "1EslO5pMlybI",
        "outputId": "7e9c000a-b0fa-4ae7-83d4-605b308f4369"
      },
      "outputs": [],
      "source": [
        "import pandas as pd\n",
        "\n",
        "df = pd.read_csv('IMDB Dataset.csv')"
      ]
    },
    {
      "cell_type": "markdown",
      "metadata": {
        "id": "5ydcUBEuuALB"
      },
      "source": [
        "## Descrição do dataset\n",
        "\n",
        "### Visão Geral\n",
        "- **Objetivo**: Classificação binária de sentimento em avaliações de filmes.\n",
        "- **Link**: https://www.kaggle.com/datasets/lakshmi25npathi/imdb-dataset-of-50k-movie-reviews  \n",
        "\n",
        "\n",
        "### Arquivo\n",
        "- **Nome**: `IMDB Dataset.csv`  \n",
        "- **Linhas**: 50.000  \n",
        "- **Colunas**: 2\n",
        "\n",
        "### Colunas\n",
        "| Nome       | Descrição                                   | Tipo    |\n",
        "|------------|---------------------------------------------|---------|\n",
        "| `review`   | Texto completo da avaliação do usuário.     | String  |\n",
        "| `sentiment`| Rótulo de sentimento (“positive”/“negative”).| String  |"
      ]
    },
    {
      "cell_type": "markdown",
      "metadata": {
        "id": "sH-svF_MuALC"
      },
      "source": [
        "## Exploração inicial do dataset"
      ]
    },
    {
      "cell_type": "code",
      "execution_count": 16,
      "metadata": {
        "colab": {
          "base_uri": "https://localhost:8080/",
          "height": 206
        },
        "id": "EqZDSV18D-io",
        "outputId": "7233c742-ca47-40f9-c46e-442821c6ca29"
      },
      "outputs": [
        {
          "data": {
            "text/html": [
              "<div>\n",
              "<style scoped>\n",
              "    .dataframe tbody tr th:only-of-type {\n",
              "        vertical-align: middle;\n",
              "    }\n",
              "\n",
              "    .dataframe tbody tr th {\n",
              "        vertical-align: top;\n",
              "    }\n",
              "\n",
              "    .dataframe thead th {\n",
              "        text-align: right;\n",
              "    }\n",
              "</style>\n",
              "<table border=\"1\" class=\"dataframe\">\n",
              "  <thead>\n",
              "    <tr style=\"text-align: right;\">\n",
              "      <th></th>\n",
              "      <th>review</th>\n",
              "      <th>sentiment</th>\n",
              "    </tr>\n",
              "  </thead>\n",
              "  <tbody>\n",
              "    <tr>\n",
              "      <th>0</th>\n",
              "      <td>One of the other reviewers has mentioned that ...</td>\n",
              "      <td>positive</td>\n",
              "    </tr>\n",
              "    <tr>\n",
              "      <th>1</th>\n",
              "      <td>A wonderful little production. &lt;br /&gt;&lt;br /&gt;The...</td>\n",
              "      <td>positive</td>\n",
              "    </tr>\n",
              "    <tr>\n",
              "      <th>2</th>\n",
              "      <td>I thought this was a wonderful way to spend ti...</td>\n",
              "      <td>positive</td>\n",
              "    </tr>\n",
              "    <tr>\n",
              "      <th>3</th>\n",
              "      <td>Basically there's a family where a little boy ...</td>\n",
              "      <td>negative</td>\n",
              "    </tr>\n",
              "    <tr>\n",
              "      <th>4</th>\n",
              "      <td>Petter Mattei's \"Love in the Time of Money\" is...</td>\n",
              "      <td>positive</td>\n",
              "    </tr>\n",
              "  </tbody>\n",
              "</table>\n",
              "</div>"
            ],
            "text/plain": [
              "                                              review sentiment\n",
              "0  One of the other reviewers has mentioned that ...  positive\n",
              "1  A wonderful little production. <br /><br />The...  positive\n",
              "2  I thought this was a wonderful way to spend ti...  positive\n",
              "3  Basically there's a family where a little boy ...  negative\n",
              "4  Petter Mattei's \"Love in the Time of Money\" is...  positive"
            ]
          },
          "execution_count": 16,
          "metadata": {},
          "output_type": "execute_result"
        }
      ],
      "source": [
        "df.head()"
      ]
    },
    {
      "cell_type": "code",
      "execution_count": 17,
      "metadata": {
        "colab": {
          "base_uri": "https://localhost:8080/"
        },
        "id": "23G9JDtRsbbE",
        "outputId": "d68e66f2-9a41-4970-a469-2c5adb207ee1"
      },
      "outputs": [
        {
          "data": {
            "text/plain": [
              "(50000, 2)"
            ]
          },
          "execution_count": 17,
          "metadata": {},
          "output_type": "execute_result"
        }
      ],
      "source": [
        "#exibindo as dimensões do dataset\n",
        "df.shape"
      ]
    },
    {
      "cell_type": "code",
      "execution_count": 18,
      "metadata": {
        "colab": {
          "base_uri": "https://localhost:8080/",
          "height": 178
        },
        "id": "xBghG5zgD7fC",
        "outputId": "98fad608-7470-44c2-e4df-3484269fae03"
      },
      "outputs": [
        {
          "data": {
            "text/plain": [
              "sentiment\n",
              "positive    25000\n",
              "negative    25000\n",
              "Name: count, dtype: int64"
            ]
          },
          "execution_count": 18,
          "metadata": {},
          "output_type": "execute_result"
        }
      ],
      "source": [
        "#exibindo a quantidade de classes\n",
        "df['sentiment'].value_counts()"
      ]
    },
    {
      "cell_type": "markdown",
      "metadata": {
        "id": "XT_tSmkUEhEr"
      },
      "source": [
        "Verificando a frequência das palavras do dataset"
      ]
    },
    {
      "cell_type": "code",
      "execution_count": 19,
      "metadata": {
        "colab": {
          "base_uri": "https://localhost:8080/"
        },
        "id": "BsbWH7ILn23g",
        "outputId": "588cac92-04d5-4c32-bea9-e5890359ab95"
      },
      "outputs": [
        {
          "data": {
            "text/plain": [
              "[('the', 638861),\n",
              " ('a', 316615),\n",
              " ('and', 313637),\n",
              " ('of', 286661),\n",
              " ('to', 264573),\n",
              " ('is', 204876),\n",
              " ('in', 179807),\n",
              " ('i', 141587),\n",
              " ('this', 138483),\n",
              " ('that', 130140),\n",
              " ('it', 129614),\n",
              " ('/><br', 100974),\n",
              " ('was', 93258),\n",
              " ('as', 88242),\n",
              " ('with', 84590),\n",
              " ('for', 84510),\n",
              " ('but', 77864),\n",
              " ('on', 62890),\n",
              " ('movie', 61492),\n",
              " ('are', 57009)]"
            ]
          },
          "execution_count": 19,
          "metadata": {},
          "output_type": "execute_result"
        }
      ],
      "source": [
        "from collections import Counter\n",
        "\n",
        "# juntando todas as reviews em uma única string\n",
        "all_reviews = ' '.join(df['review'].astype(str))\n",
        "\n",
        "# tokenizando as reviews\n",
        "tokens = all_reviews.lower().split()\n",
        "\n",
        "# usando Counter para contar a frequência de cada token\n",
        "token_counts = Counter(tokens)\n",
        "\n",
        "# obtendo os 20 tokens mais comuns e suas contagens\n",
        "top_20_tokens = token_counts.most_common(20)\n",
        "\n",
        "# exibindo os 20 tokens mais comuns\n",
        "top_20_tokens\n"
      ]
    },
    {
      "cell_type": "markdown",
      "metadata": {
        "id": "IR4Rw4v1uALF"
      },
      "source": [
        "## Pré-processamento dos dados utilizando NLP"
      ]
    },
    {
      "cell_type": "code",
      "execution_count": 20,
      "metadata": {
        "id": "SisMbPFZ78nR"
      },
      "outputs": [],
      "source": [
        "# convertendo todos as letras pra minúsculas\n",
        "df['review'] = df['review'].str.lower()"
      ]
    },
    {
      "cell_type": "markdown",
      "metadata": {
        "id": "B4PWrmevuALF"
      },
      "source": [
        "Utilizando regex para remover caracteres indesejados do conjunto de dados como `<br /><br />` , `\\x85`, `\\t` e `\\xa0`"
      ]
    },
    {
      "cell_type": "code",
      "execution_count": 21,
      "metadata": {
        "id": "Fve1w4sD8INw"
      },
      "outputs": [],
      "source": [
        "import re\n",
        "\n",
        "# Função para aplicar a regex\n",
        "def clean_text(text):\n",
        "    # Substitui \"<br /><br />\" por \"\"\n",
        "    text = re.sub(r'<br\\s*/?>', '', text)\n",
        "\n",
        "    # Mantém apenas a-z, A-Z e 0-9, e remove qualquer outro caractere\n",
        "    text = re.sub(r'[^a-zA-Z0-9\\s]', '', text)\n",
        "\n",
        "    # remove '\\x85' , '\\t' e '\\xa0'\n",
        "    text = re.sub(r'[\\x85\\t\\xa0]', '', text)\n",
        "\n",
        "    return text"
      ]
    },
    {
      "cell_type": "code",
      "execution_count": 22,
      "metadata": {
        "colab": {
          "base_uri": "https://localhost:8080/",
          "height": 127
        },
        "id": "Qs1q5Lf9ES2O",
        "outputId": "b48c96be-9b30-4ec7-85d4-43fb1c9d673a"
      },
      "outputs": [
        {
          "data": {
            "text/plain": [
              "'a wonderful little production. <br /><br />the filming technique is very unassuming- very old-time-bbc fashion and gives a comforting, and sometimes discomforting, sense of realism to the entire piece. <br /><br />the actors are extremely well chosen- michael sheen not only \"has got all the polari\" but he has all the voices down pat too! you can truly see the seamless editing guided by the references to williams\\' diary entries, not only is it well worth the watching but it is a terrificly written and performed piece. a masterful production about one of the great master\\'s of comedy and his life. <br /><br />the realism really comes home with the little things: the fantasy of the guard which, rather than use the traditional \\'dream\\' techniques remains solid then disappears. it plays on our knowledge and our senses, particularly with the scenes concerning orton and halliwell and the sets (particularly of their flat with halliwell\\'s murals decorating every surface) are terribly well done.'"
            ]
          },
          "execution_count": 22,
          "metadata": {},
          "output_type": "execute_result"
        }
      ],
      "source": [
        "# antes de aplicar o pré-processamento\n",
        "df['review'][1]"
      ]
    },
    {
      "cell_type": "code",
      "execution_count": 23,
      "metadata": {
        "id": "DN7AZMmDEYhI"
      },
      "outputs": [],
      "source": [
        "# aplicando a função nos reviews\n",
        "df['review'] = df['review'].apply(clean_text)"
      ]
    },
    {
      "cell_type": "code",
      "execution_count": 24,
      "metadata": {
        "colab": {
          "base_uri": "https://localhost:8080/",
          "height": 127
        },
        "id": "CR5Xdwie8UEg",
        "outputId": "0b262a01-1f47-4522-d45c-185940883365"
      },
      "outputs": [
        {
          "data": {
            "text/plain": [
              "'a wonderful little production the filming technique is very unassuming very oldtimebbc fashion and gives a comforting and sometimes discomforting sense of realism to the entire piece the actors are extremely well chosen michael sheen not only has got all the polari but he has all the voices down pat too you can truly see the seamless editing guided by the references to williams diary entries not only is it well worth the watching but it is a terrificly written and performed piece a masterful production about one of the great masters of comedy and his life the realism really comes home with the little things the fantasy of the guard which rather than use the traditional dream techniques remains solid then disappears it plays on our knowledge and our senses particularly with the scenes concerning orton and halliwell and the sets particularly of their flat with halliwells murals decorating every surface are terribly well done'"
            ]
          },
          "execution_count": 24,
          "metadata": {},
          "output_type": "execute_result"
        }
      ],
      "source": [
        "# após aplicar o pré-processamento\n",
        "df['review'][1]"
      ]
    },
    {
      "cell_type": "markdown",
      "metadata": {
        "id": "P2N_zijvuALG"
      },
      "source": [
        "Verificando a frequência de caracteres que não são letras após o a aplicação do regex para verificar se sobrou algo que deveria ser removido"
      ]
    },
    {
      "cell_type": "code",
      "execution_count": 25,
      "metadata": {
        "colab": {
          "base_uri": "https://localhost:8080/"
        },
        "id": "5qcKDGH6tlvC",
        "outputId": "bb92722c-0df6-4362-b1d6-d1fb4420feb3"
      },
      "outputs": [
        {
          "data": {
            "text/plain": [
              "Counter({' ': 11355348,\n",
              "         '0': 37357,\n",
              "         '1': 35792,\n",
              "         '9': 19392,\n",
              "         '2': 15978,\n",
              "         '3': 11002,\n",
              "         '5': 10457,\n",
              "         '8': 8874,\n",
              "         '4': 8342,\n",
              "         '7': 8277,\n",
              "         '6': 6209})"
            ]
          },
          "execution_count": 25,
          "metadata": {},
          "output_type": "execute_result"
        }
      ],
      "source": [
        "# combinando todas as reviews em uma única string\n",
        "all_reviews = ' '.join(df['review'].astype(str))\n",
        "\n",
        "# usando regex para encontrar todos os caracteres que não são letras minúsculas\n",
        "non_lowercase_chars = re.findall(r'[^a-z]', all_reviews.lower())\n",
        "\n",
        "# usando Counter para contar a frequência de cada caractere não minúsculo\n",
        "non_lowercase_counts = Counter(non_lowercase_chars)\n",
        "\n",
        "# exibindo os resultados\n",
        "non_lowercase_counts"
      ]
    },
    {
      "cell_type": "markdown",
      "metadata": {
        "id": "VmxZfhE_uALH"
      },
      "source": [
        "Como sobraram apenas caracteres numéricos e espaço, podemos prosseguir com a implementação."
      ]
    },
    {
      "cell_type": "markdown",
      "metadata": {
        "id": "Zc_NTKr7uALH"
      },
      "source": [
        "<div style=\"text-align: center;\">\n",
        "    <img src=\"fine-tuning.jpg\" width=\"900\">\n",
        "</div>"
      ]
    },
    {
      "cell_type": "markdown",
      "metadata": {
        "id": "d-D8V639uALH"
      },
      "source": [
        "### Reduzindo o dataset de 50k para 2K de exemplos visando eficiência computacional, evitar overfitting e garantir equilíbrio entre classes, mantendo a diversidade dos dados."
      ]
    },
    {
      "cell_type": "code",
      "execution_count": 26,
      "metadata": {
        "colab": {
          "base_uri": "https://localhost:8080/",
          "height": 196
        },
        "id": "xmjflboTLU27",
        "outputId": "3797082d-1ac9-4318-b10a-b668022bfe6e"
      },
      "outputs": [
        {
          "name": "stdout",
          "output_type": "stream",
          "text": [
            "(2000, 2)\n"
          ]
        },
        {
          "data": {
            "text/plain": [
              "sentiment\n",
              "negative    1000\n",
              "positive    1000\n",
              "Name: count, dtype: int64"
            ]
          },
          "execution_count": 26,
          "metadata": {},
          "output_type": "execute_result"
        }
      ],
      "source": [
        "import pandas as pd\n",
        "\n",
        "# dividindo os dados por classe\n",
        "positive_reviews = df[df['sentiment'] == 'positive']\n",
        "negative_reviews = df[df['sentiment'] == 'negative']\n",
        "\n",
        "# selecionando aleatoriamente 1000 registros de cada classe\n",
        "positive_sample = positive_reviews.sample(n=1000, random_state=42)\n",
        "negative_sample = negative_reviews.sample(n=1000, random_state=42)\n",
        "\n",
        "# combinando as duas amostras\n",
        "df = pd.concat([positive_sample, negative_sample])\n",
        "\n",
        "# embaralhando o novo dataframe para garantir aleatoriedade\n",
        "df = df.sample(frac=1, random_state=42).reset_index(drop=True)\n",
        "\n",
        "# exibindo as dimensões do novo dataset\n",
        "print(df.shape)\n",
        "\n",
        "# exibindo a contagem de cada classe no novo dataset\n",
        "df['sentiment'].value_counts()"
      ]
    },
    {
      "cell_type": "markdown",
      "metadata": {
        "id": "CgFFXEoYuALI"
      },
      "source": [
        "### Dividindo o dataset em 80% para treino, 10% para teste e 10% para validação"
      ]
    },
    {
      "cell_type": "code",
      "execution_count": 27,
      "metadata": {
        "colab": {
          "base_uri": "https://localhost:8080/"
        },
        "id": "EkatTDTNXHKw",
        "outputId": "f1613b16-d447-40ef-e432-69aca5974dc6"
      },
      "outputs": [
        {
          "name": "stdout",
          "output_type": "stream",
          "text": [
            "Training set shape: (1600, 2)\n",
            "Validation set shape: (200, 2)\n",
            "Testing set shape: (200, 2)\n"
          ]
        }
      ],
      "source": [
        "from sklearn.model_selection import train_test_split\n",
        "\n",
        "# Dividindo os dados em conjuntos de treinamento (80%), teste (10%) e validação (10%)\n",
        "train_df, temp_df = train_test_split(df, test_size=0.2, random_state=42)\n",
        "val_df, test_df = train_test_split(temp_df, test_size=0.5, random_state=42)\n",
        "\n",
        "# imprimindo as dimensões dos conjuntos de dados resultantes\n",
        "print(\"Training set shape:\", train_df.shape)\n",
        "print(\"Validation set shape:\", val_df.shape)\n",
        "print(\"Testing set shape:\", test_df.shape)"
      ]
    },
    {
      "cell_type": "code",
      "execution_count": 28,
      "metadata": {
        "colab": {
          "base_uri": "https://localhost:8080/"
        },
        "id": "l6wDVCxQiglQ",
        "outputId": "a8664b3c-5aed-4f3f-de90-96cf21635347"
      },
      "outputs": [],
      "source": [
        "!pip install transformers torch accelerate --quiet"
      ]
    },
    {
      "cell_type": "code",
      "execution_count": 29,
      "metadata": {
        "colab": {
          "base_uri": "https://localhost:8080/",
          "height": 380,
          "referenced_widgets": [
            "888c6fcc6bde45bcac0c600b8d1e1b67",
            "21e5be1884044d31bbf561d5e915cabc",
            "7864f631dd3a422883399de959564181",
            "51b091ab5792402b9a0fc82fccfbd8e6",
            "00796d654a994ac0873fbdd4bc45d403",
            "388365b114f04646875a4e65b54732f1",
            "9b2fa21f6aab4f45b38bb66d211d81d6",
            "4f89ceeec58f413c8a1a18b658134590",
            "dce75581a2014d219b7b993772b4c3f9",
            "174e4abbd6b84d8a9c3bb36b3649de03",
            "77f02a6544644f9aa16887d62970811b",
            "a303f3a140544138bd9864b3ad6ea62d",
            "e17c06a505334db1b6ca531c44ff8379",
            "b7d19a4d3d2a451797db1baa3b0262bf",
            "a63ac548a35a42a4b44527829a4ee240",
            "398d329597b0438daf21b20d773d724e",
            "ca3459d6b66d411a850b990939d4741e",
            "a9b47a0d77c24cb2aa409720e0baff62",
            "60ccbaaa90684fbc9800f6def7b0d502",
            "2542afdc66d94409ba71ffa27b01a36e",
            "a254b4f5701844d6bc4934db969f2199",
            "3c1670753aa64c6781719f0274e364ab",
            "f70cd96c536841e5917a507731958b3b",
            "924f99f2ac89416b96903fddbb2f83a9",
            "9fc21e3c96984b548f18d8dcd70fb603",
            "54b427d134b145e09070d4930c781b2f",
            "eaca44c7df894d0fbe2fa8bea47d7ff1",
            "5c9cd38b1c5a4fd09829d8b254213c05",
            "298e847663514a1ba0fd739c82687e0a",
            "f490500a58994b56be3dd233050d6ea7",
            "e6758f3e2f734839bd0f0ca6d4a20d80",
            "5a5f4fbfdc744821a1b5833a6ab2cc3d",
            "c081925479384743b6e98a1f6e182116",
            "80da296687c847deaad2f1d720c83bfd",
            "0712eb8d5e7440edb5fee062e96f9d4f",
            "634ac316b49a41819fccae7026873382",
            "82337ce5d9134a89b2a0e09e67e687f0",
            "bdff2d31efd84b16b3cb31dcc81e6f2b",
            "580c656f0bbc4b519b78d295063bfe5d",
            "21a351309f244610b0f79c05331beb05",
            "bf91e5f83f964c3fb23dceaa564b7cf5",
            "819620dacece47538cf84abfee1b25c1",
            "d82f1ef4558046ba86760282e349f992",
            "4f78972e5cca466385af24d06b4e9183",
            "56b32972f5a54901a7810616674aed7f",
            "439e2cc8136241d4bc3cadf87789ba5a",
            "e7c680d119594d80a6d3365c8e340812",
            "c92d717c8b804b7f86860ed50879f5de",
            "cfb75f2e166044bc99457742a63b0c46",
            "194299c656e14046bfd4a979d831f01d",
            "cbcff06840a243f4a49990b127a673dd",
            "a795b907dcf54caba8c2f5db860e205f",
            "5ec34618fe27478e9d8eab0d69f66c27",
            "6c47f5a666004ad0a337c42d70840ba0",
            "6ba7859d67b344f69c17b62c74023707"
          ]
        },
        "id": "mH_-vxy3ijV2",
        "outputId": "e215ed57-0543-4bd0-af36-dff890c99da7"
      },
      "outputs": [
        {
          "name": "stderr",
          "output_type": "stream",
          "text": [
            "Some weights of DistilBertForSequenceClassification were not initialized from the model checkpoint at distilbert-base-uncased and are newly initialized: ['classifier.bias', 'classifier.weight', 'pre_classifier.bias', 'pre_classifier.weight']\n",
            "You should probably TRAIN this model on a down-stream task to be able to use it for predictions and inference.\n"
          ]
        }
      ],
      "source": [
        "from transformers import DistilBertTokenizer, DistilBertForSequenceClassification\n",
        "import torch\n",
        "\n",
        "# carregando o tokenizer e modelo\n",
        "model_name = \"distilbert-base-uncased\"\n",
        "tokenizer = DistilBertTokenizer.from_pretrained(model_name)\n",
        "model = DistilBertForSequenceClassification.from_pretrained(model_name, num_labels=2)"
      ]
    },
    {
      "cell_type": "markdown",
      "metadata": {
        "id": "FVjactv0uALJ"
      },
      "source": [
        "\n",
        "A tokenização é essencial para converter os textos em representações numéricas que o modelo DistilBERT pode processar.\n",
        "Neste caso, os reviews são transformados em IDs correspondentes ao vocabulário do modelo, garantindo que:\n",
        "- Os textos sejam convertidos para um formato que o modelo entende;\n",
        "- Seja aplicada a padronização do tamanho das sequências por meio de padding e truncation (limitado a 512 tokens) para facilitar o processamento em lotes;\n",
        "- A saída seja retornada como tensores (com return_tensors=\"pt\"), compatíveis com o PyTorch para treinamento e inferência.\n"
      ]
    },
    {
      "cell_type": "code",
      "execution_count": 30,
      "metadata": {
        "id": "H37-RrkDjEXN"
      },
      "outputs": [],
      "source": [
        "def tokenize_data(texts, labels, max_length=512):\n",
        "    return tokenizer(\n",
        "        texts.tolist(),\n",
        "        padding=\"max_length\",\n",
        "        truncation=True,\n",
        "        max_length=max_length,\n",
        "        return_tensors=\"pt\"\n",
        "    )\n",
        "\n",
        "# tokenizando os dados de treino, validação e teste\n",
        "train_encodings = tokenize_data(train_df['review'], train_df['sentiment'])\n",
        "val_encodings = tokenize_data(val_df['review'], val_df['sentiment'])\n",
        "test_encodings = tokenize_data(test_df['review'], test_df['sentiment'])"
      ]
    },
    {
      "cell_type": "markdown",
      "metadata": {
        "id": "4cTvhoE5uALJ"
      },
      "source": [
        "O PyTorch requer que os dados sejam convertidos para tensores para que o modelo possa ser treinado. Aqui estamos convertendo tanto os dados de entrada quanto os rótulos para o formato de tensor necessário para o treinamento"
      ]
    },
    {
      "cell_type": "code",
      "execution_count": 31,
      "metadata": {
        "id": "QPigHoi3uALJ"
      },
      "outputs": [],
      "source": [
        "# convertendo as labels para valores numéricos (0 = negative, 1 = positive)\n",
        "label_mapping = {\"negative\": 0, \"positive\": 1}\n",
        "train_labels = torch.tensor(train_df['sentiment'].map(label_mapping).values)\n",
        "val_labels = torch.tensor(val_df['sentiment'].map(label_mapping).values)\n",
        "test_labels = torch.tensor(test_df['sentiment'].map(label_mapping).values)"
      ]
    },
    {
      "cell_type": "markdown",
      "metadata": {
        "id": "5NlmXmwVuALK"
      },
      "source": [
        "`DataLoader` é utilizado no PyTorch para carregar os dados em batches durante o treinamento. Dividimos os dados em lotes, o que ajuda a treinar o modelo de forma mais eficiente. Aqui, o parâmetro `shuffle = True` garante que os dados de treino sejam embaralhados a cada época."
      ]
    },
    {
      "cell_type": "markdown",
      "metadata": {
        "id": "nK2s1WLiuALK"
      },
      "source": [
        "O `TensorDataset` é utilizado para combinar múltiplos tensores em um único dataset, permitindo que os dados de entrada (como `input_ids` e `attention_mask`) e os rótulos (`labels`) sejam agrupados e acessados de forma sincronizada. Isso é essencial para o treinamento e avaliação do modelo, pois garante que cada exemplo no dataset contenha todas as informações necessárias para o processamento em lotes (`DataLoader`), facilitando a manipulação e o treinamento eficiente do modelo."
      ]
    },
    {
      "cell_type": "code",
      "execution_count": 18,
      "metadata": {
        "id": "FNlfFkA8jMY_"
      },
      "outputs": [],
      "source": [
        "from torch.utils.data import TensorDataset, DataLoader\n",
        "\n",
        "# criando os TensorDatasets\n",
        "train_dataset = TensorDataset(train_encodings['input_ids'], train_encodings['attention_mask'], train_labels)\n",
        "val_dataset = TensorDataset(val_encodings['input_ids'], val_encodings['attention_mask'], val_labels)\n",
        "test_dataset = TensorDataset(test_encodings['input_ids'], test_encodings['attention_mask'], test_labels)\n",
        "\n",
        "# criando os DataLoaders\n",
        "batch_size = 32\n",
        "train_loader = DataLoader(train_dataset, batch_size=batch_size, shuffle=True)\n",
        "val_loader = DataLoader(val_dataset, batch_size=batch_size)\n",
        "test_loader = DataLoader(test_dataset, batch_size=batch_size)"
      ]
    },
    {
      "cell_type": "markdown",
      "metadata": {
        "id": "18K2aMz5uALK"
      },
      "source": [
        "1. **Configuração do Otimizador**:\n",
        "    - O otimizador escolhido é o `AdamW`, que é amplamente utilizado em modelos de aprendizado profundo, especialmente em Transformers. Ele combina a eficiência do algoritmo Adam com regularização por decaimento de peso (`weight decay`), ajudando a evitar overfitting.\n",
        "    - A taxa de aprendizado (`lr`) é configurada como `2e-5`, um valor comum para fine-tuning de modelos pré-treinados como o DistilBERT.\n",
        "\n",
        "2. **Seleção do Dispositivo**:\n",
        "    - O código verifica se uma GPU está disponível utilizando `torch.cuda.is_available()`. Caso esteja, o dispositivo será configurado como `\"cuda\"`, caso contrário, será `\"cpu\"`.\n",
        "    - O uso de GPU acelera significativamente o treinamento e a inferência, especialmente em modelos grandes como o DistilBERT.\n",
        "\n",
        "3. **Movendo o Modelo para o Dispositivo**:\n",
        "    - O modelo é transferido para o dispositivo selecionado (GPU ou CPU) utilizando o método `.to(device)`. Isso garante que os cálculos sejam realizados no hardware apropriado, otimizando o desempenho.\n",
        "\n",
        "Essas etapas são fundamentais para preparar o modelo e o ambiente para o treinamento eficiente e correto."
      ]
    },
    {
      "cell_type": "code",
      "execution_count": 19,
      "metadata": {
        "colab": {
          "base_uri": "https://localhost:8080/"
        },
        "id": "8pI_xoTcjrCX",
        "outputId": "8be23348-4f2c-4b24-a063-8a3363307865"
      },
      "outputs": [
        {
          "name": "stdout",
          "output_type": "stream",
          "text": [
            "Using device: cuda\n"
          ]
        }
      ],
      "source": [
        "optimizer = torch.optim.AdamW(model.parameters(), lr=2e-5) # configurando o otimizador AdamW com taxa de aprendizado de 2e-5\n",
        "\n",
        "device = torch.device(\"cuda\" if torch.cuda.is_available() else \"cpu\") # verificando se há uma GPU disponível, caso contrário, usa a CPU\n",
        "\n",
        "model.to(device) # movendo o modelo para o dispositivo selecionado (GPU ou CPU)\n",
        "print(f\"Using device: {device}\") #exibindo o disposito usado"
      ]
    },
    {
      "cell_type": "code",
      "execution_count": 20,
      "metadata": {
        "colab": {
          "base_uri": "https://localhost:8080/",
          "height": 1000
        },
        "id": "iWqaBZCqj1zD",
        "outputId": "1e877eb2-f9a1-4149-8c8a-70978c65f865"
      },
      "outputs": [
        {
          "name": "stderr",
          "output_type": "stream",
          "text": [
            "100%|██████████| 50/50 [01:09<00:00,  1.38s/it]\n"
          ]
        },
        {
          "name": "stdout",
          "output_type": "stream",
          "text": [
            "Epoch 1:\n",
            "  Train Loss: 0.5622\n",
            "  Val Loss: 0.4220\n",
            "  Train Accuracy: 0.7056\n",
            "  Val Accuracy: 0.8050\n"
          ]
        },
        {
          "name": "stderr",
          "output_type": "stream",
          "text": [
            "100%|██████████| 50/50 [01:12<00:00,  1.45s/it]\n"
          ]
        },
        {
          "name": "stdout",
          "output_type": "stream",
          "text": [
            "Epoch 2:\n",
            "  Train Loss: 0.2775\n",
            "  Val Loss: 0.2867\n",
            "  Train Accuracy: 0.8900\n",
            "  Val Accuracy: 0.8850\n"
          ]
        },
        {
          "name": "stderr",
          "output_type": "stream",
          "text": [
            "100%|██████████| 50/50 [01:12<00:00,  1.44s/it]\n"
          ]
        },
        {
          "name": "stdout",
          "output_type": "stream",
          "text": [
            "Epoch 3:\n",
            "  Train Loss: 0.1473\n",
            "  Val Loss: 0.3065\n",
            "  Train Accuracy: 0.9544\n",
            "  Val Accuracy: 0.8950\n"
          ]
        },
        {
          "data": {
            "image/png": "[encoded data removed]",
            "text/plain": [
              "<Figure size 1000x800 with 2 Axes>"
            ]
          },
          "metadata": {},
          "output_type": "display_data"
        }
      ],
      "source": [
        "from tqdm import tqdm  # importa a biblioteca tqdm para mostrar barras de progresso\n",
        "import plotly.graph_objects as go  # importa a biblioteca plotly para gráficos\n",
        "import matplotlib.pyplot as plt\n",
        "\n",
        "def train_model(model, train_loader, val_loader, epochs=3):  # define função para treinar o modelo\n",
        "    # Listas para armazenar as perdas e acurácias\n",
        "    train_losses = []\n",
        "    val_losses = []\n",
        "    train_accuracies = []\n",
        "    val_accuracies = []\n",
        "\n",
        "    epochs_range = list(range(epochs))\n",
        "\n",
        "    for epoch in range(epochs):  # loop através das épocas de treinamento\n",
        "        # treino\n",
        "        model.train()  # coloca o modelo em modo de treinamento\n",
        "        train_loss = 0  # inicializa a variável para acumular a perda de treino\n",
        "        correct_train = 0  # inicializa contador de previsões corretas de treino\n",
        "\n",
        "        for batch in tqdm(train_loader):  # itera sobre os lotes de treino com barra de progresso\n",
        "            input_ids, attention_mask, labels = [b.to(device) for b in batch]  # move os dados para o dispositivo (GPU/CPU)\n",
        "            outputs = model(input_ids, attention_mask=attention_mask, labels=labels)  # faz a forward pass\n",
        "            loss = outputs.loss  # obtém o valor da perda\n",
        "            loss.backward()  # faz a backward pass para calcular gradientes\n",
        "            optimizer.step()  # atualiza os parâmetros do modelo\n",
        "            optimizer.zero_grad()  # zera os gradientes para a próxima iteração\n",
        "            train_loss += loss.item()  # acumula a perda de treino\n",
        "            preds = torch.argmax(outputs.logits, dim=1)  # obtém as previsões do modelo\n",
        "            correct_train += (preds == labels).sum().item()  # conta as previsões corretas de treino\n",
        "\n",
        "        # Validação\n",
        "        model.eval()  # coloca o modelo em modo de avaliação\n",
        "        val_loss = 0  # inicializa a variável para acumular a perda de validação\n",
        "        correct_val = 0  # inicializa contador de previsões corretas de validação\n",
        "\n",
        "        with torch.no_grad():  # desabilita o cálculo de gradientes para validação\n",
        "            for batch in val_loader:  # itera sobre os lotes de validação\n",
        "                input_ids, attention_mask, labels = [b.to(device) for b in batch]  # move os dados para o dispositivo\n",
        "                outputs = model(input_ids, attention_mask=attention_mask, labels=labels)  # faz a forward pass\n",
        "                val_loss += outputs.loss.item()  # acumula a perda de validação\n",
        "                preds = torch.argmax(outputs.logits, dim=1)  # obtém as previsões do modelo\n",
        "                correct_val += (preds == labels).sum().item()  # conta as previsões corretas de validação\n",
        "\n",
        "        # Armazenando as métricas\n",
        "        train_losses.append(train_loss/len(train_loader))\n",
        "        val_losses.append(val_loss/len(val_loader))\n",
        "        train_accuracies.append(correct_train / len(train_loader.dataset))\n",
        "        val_accuracies.append(correct_val / len(val_loader.dataset))\n",
        "\n",
        "        # Imprime as métricas para cada época\n",
        "        print(f\"Epoch {epoch+1}:\")  # imprime o número da época\n",
        "        print(f\"  Train Loss: {train_loss/len(train_loader):.4f}\")  # imprime a perda média de treino\n",
        "        print(f\"  Val Loss: {val_loss/len(val_loader):.4f}\")  # imprime a perda média de validação\n",
        "        print(f\"  Train Accuracy: {train_accuracies[-1]:.4f}\")  # imprime a acurácia de treino\n",
        "        print(f\"  Val Accuracy: {val_accuracies[-1]:.4f}\")  # imprime a acurácia de validação\n",
        "\n",
        "    # Gerando os gráficos de Acurácia e Perda\n",
        "    plt.figure(figsize=(10, 8))\n",
        "\n",
        "    # Gráfico de Acurácia\n",
        "    plt.subplot(2, 1, 1)\n",
        "    plt.plot(epochs_range, train_accuracies, label='Acurácia Treino', color='blue')\n",
        "    plt.plot(epochs_range, val_accuracies, label='Acurácia Validação', color='red')  # alterado para vermelho\n",
        "    plt.xlabel('Época')\n",
        "    plt.ylabel('Acurácia')\n",
        "    plt.legend()\n",
        "\n",
        "    # Gráfico de Perda\n",
        "    plt.subplot(2, 1, 2)\n",
        "    plt.plot(epochs_range, train_losses, label='Perda Treino', color='blue')\n",
        "    plt.plot(epochs_range, val_losses, label='Perda Validação', color='red')  # alterado para vermelho\n",
        "    plt.xlabel('Época')\n",
        "    plt.ylabel('Perda')\n",
        "    plt.legend()\n",
        "\n",
        "    plt.tight_layout()\n",
        "    plt.show()\n",
        "\n",
        "# executando o treinamento\n",
        "train_model(model, train_loader, val_loader, epochs=3)  # chama a função para treinar o modelo"
      ]
    },
    {
      "cell_type": "code",
      "execution_count": 21,
      "metadata": {
        "colab": {
          "base_uri": "https://localhost:8080/"
        },
        "id": "HwZva6Fpj6zs",
        "outputId": "783f4eb5-968e-4fbd-fcba-9a3a6483e827"
      },
      "outputs": [
        {
          "name": "stdout",
          "output_type": "stream",
          "text": [
            "Acurácia no Teste: 0.89\n"
          ]
        }
      ],
      "source": [
        "model.eval() # coloca o modelo em modo de avaliação (desativa camadas como dropout)\n",
        "\n",
        "test_correct = 0 # inicializa contador para armazenar o número de previsões corretas\n",
        "\n",
        "with torch.no_grad(): # desabilita cálculo de gradientes para economizar memória e computação\n",
        "    for batch in test_loader: # itera sobre os lotes de dados de teste\n",
        "        input_ids, attention_mask, labels = [b.to(device) for b in batch] # move os tensores do batch para o dispositivo (GPU/CPU)\n",
        "        outputs = model(input_ids, attention_mask=attention_mask) # realiza a forward pass do modelo (obtém as previsões)\n",
        "        preds = torch.argmax(outputs.logits, dim=1) # obtém as classes previstas (índices com maior valor nos logits)\n",
        "        test_correct += (preds == labels).sum().item() # conta quantas previsões estão corretas e acumula no total\n",
        "\n",
        "print(f\"Acurácia no Teste: {test_correct/len(test_dataset):.2f}\")"
      ]
    },
    {
      "cell_type": "code",
      "execution_count": 22,
      "metadata": {
        "colab": {
          "base_uri": "https://localhost:8080/"
        },
        "id": "uuy8sGKGj9ae",
        "outputId": "4a7a6142-0ca0-472a-cb28-7df56c91465d"
      },
      "outputs": [
        {
          "data": {
            "text/plain": [
              "('distilbert-base-uncased/tokenizer_config.json',\n",
              " 'distilbert-base-uncased/special_tokens_map.json',\n",
              " 'distilbert-base-uncased/vocab.txt',\n",
              " 'distilbert-base-uncased/added_tokens.json')"
            ]
          },
          "execution_count": 22,
          "metadata": {},
          "output_type": "execute_result"
        }
      ],
      "source": [
        "model.save_pretrained(\"distilbert-base-uncased\")\n",
        "tokenizer.save_pretrained(\"distilbert-base-uncased\")"
      ]
    },
    {
      "cell_type": "code",
      "execution_count": 23,
      "metadata": {
        "id": "hN__twP5uALL"
      },
      "outputs": [],
      "source": [
        "def display_classification_examples(test_loader, model, tokenizer, device):\n",
        "    \"\"\"\n",
        "    Exibe o primeiro exemplo classificado corretamente e o primeiro exemplo classificado incorretamente.\n",
        "\n",
        "    Args:\n",
        "        test_loader (DataLoader): DataLoader do conjunto de teste.\n",
        "        model (torch.nn.Module): Modelo treinado.\n",
        "        tokenizer (PreTrainedTokenizer): Tokenizador usado no modelo.\n",
        "        device (torch.device): Dispositivo (CPU ou GPU).\n",
        "    \"\"\"\n",
        "    model.eval()\n",
        "    correct_example = None\n",
        "    incorrect_example = None\n",
        "\n",
        "    with torch.no_grad():\n",
        "        for batch in test_loader:\n",
        "            input_ids, attention_mask, labels = [b.to(device) for b in batch]\n",
        "            outputs = model(input_ids, attention_mask=attention_mask)\n",
        "            preds = torch.argmax(outputs.logits, dim=1)\n",
        "\n",
        "            for i in range(len(labels)):\n",
        "                review = tokenizer.decode(input_ids[i], skip_special_tokens=True)\n",
        "                label = labels[i].item()\n",
        "                prediction = preds[i].item()\n",
        "\n",
        "                if label == prediction and correct_example is None:\n",
        "                    correct_example = (review, label, prediction)\n",
        "                elif label != prediction and incorrect_example is None:\n",
        "                    incorrect_example = (review, label, prediction)\n",
        "\n",
        "                if correct_example and incorrect_example:\n",
        "                    break\n",
        "            if correct_example and incorrect_example:\n",
        "                break\n",
        "\n",
        "    if correct_example:\n",
        "        review, label, prediction = correct_example\n",
        "        print(f\"Exemplo classificado corretamente:\\nReview: {review}\\nClasse verdadeira: {label} | Classe predita: {prediction}\\n\")\n",
        "    else:\n",
        "        print(\"Nenhum exemplo classificado corretamente encontrado.\\n\")\n",
        "\n",
        "    if incorrect_example:\n",
        "        review, label, prediction = incorrect_example\n",
        "        print(f\"Exemplo classificado incorretamente:\\nReview: {review}\\nClasse verdadeira: {label} | Classe predita: {prediction}\\n\")\n",
        "    else:\n",
        "        print(\"Nenhum exemplo classificado incorretamente encontrado.\\n\")\n"
      ]
    },
    {
      "cell_type": "code",
      "execution_count": 24,
      "metadata": {
        "colab": {
          "base_uri": "https://localhost:8080/"
        },
        "id": "W499kfvFuALM",
        "outputId": "b60188e8-c21e-4cae-8620-430d21395084"
      },
      "outputs": [
        {
          "name": "stdout",
          "output_type": "stream",
          "text": [
            "Exemplo classificado corretamente:\n",
            "Review: i had high hopes for this one after reading earlier reviews but it was so slow and the plot so basic that well i wondered if i had read the wrong reviews please a boy meets girl next door at 11 and both aspire to love and being basketball legends grow apart but watch each others progress guess what both get scholarships to same university and become lovers again until his father is caught out playing around with a younger woman our young hero unable to cope has lapse in court concentration but some how decides to go pro and drop studies and guess what is picked up by lakers dumps the heroine because she was not there for him during this emotional period so for 5 years they go their own way she returns from spain having lost the zest for the game and our hero is getting married in two weeks mom tells her that she should fight for her love so she professes her ongoing love and challenges him to a basketball shootout he wins he marries she wins he loves her well he won but decides to dump other girl for our girl the end has her playing basketball and he has baby duties sorry 2 is my high score my partner she scored 0 for a soapy story for those who read mills and boon\n",
            "Classe verdadeira: 0 | Classe predita: 0\n",
            "\n",
            "Exemplo classificado incorretamente:\n",
            "Review: brian de palmas undeniable virtuosity cant really camouflage the fact that his plot here is a thinly disguised psycho carbon copy but he does provide a genuinely terrifying climax his blow out made the next year was an improvement\n",
            "Classe verdadeira: 1 | Classe predita: 0\n",
            "\n"
          ]
        }
      ],
      "source": [
        "display_classification_examples(test_loader, model, tokenizer, device)"
      ]
    },
    {
      "cell_type": "markdown",
      "metadata": {
        "id": "EbBW2tFPuALM"
      },
      "source": [
        "Matriz de confusão"
      ]
    },
    {
      "cell_type": "code",
      "execution_count": 25,
      "metadata": {
        "colab": {
          "base_uri": "https://localhost:8080/",
          "height": 467
        },
        "id": "AwdQmNfhuALM",
        "outputId": "336dfe67-26c8-4122-f9fa-abdcef044e18"
      },
      "outputs": [
        {
          "data": {
            "text/plain": [
              "<sklearn.metrics._plot.confusion_matrix.ConfusionMatrixDisplay at 0x7f94a097be50>"
            ]
          },
          "execution_count": 25,
          "metadata": {},
          "output_type": "execute_result"
        },
        {
          "data": {
            "image/png": "[encoded data removed]",
            "text/plain": [
              "<Figure size 640x480 with 2 Axes>"
            ]
          },
          "metadata": {},
          "output_type": "display_data"
        }
      ],
      "source": [
        "from sklearn.metrics import confusion_matrix, ConfusionMatrixDisplay\n",
        "\n",
        "# colocando o modelo em modo de avaliação\n",
        "model.eval()\n",
        "\n",
        "# obtendo as previsões no conjunto de teste\n",
        "all_preds = []\n",
        "all_labels = []\n",
        "\n",
        "with torch.no_grad():\n",
        "    for batch in test_loader:\n",
        "        input_ids, attention_mask, labels = [b.to(device) for b in batch]\n",
        "        outputs = model(input_ids, attention_mask=attention_mask)\n",
        "        preds = torch.argmax(outputs.logits, dim=1)\n",
        "        all_preds.extend(preds.cpu().numpy())\n",
        "        all_labels.extend(labels.cpu().numpy())\n",
        "\n",
        "# calculando a matriz de confusão\n",
        "cm = confusion_matrix(all_labels, all_preds, labels=[0, 1])\n",
        "\n",
        "# exibindo a matriz de confusão\n",
        "disp = ConfusionMatrixDisplay(confusion_matrix=cm, display_labels=[\"Negative\", \"Positive\"])\n",
        "disp.plot(cmap=\"Blues\")"
      ]
    }
  ],
  "metadata": {
    "accelerator": "GPU",
    "colab": {
      "gpuType": "T4",
      "provenance": []
    },
    "kernelspec": {
      "display_name": "Python 3",
      "name": "python3"
    },
    "language_info": {
      "codemirror_mode": {
        "name": "ipython",
        "version": 3
      },
      "file_extension": ".py",
      "mimetype": "text/x-python",
      "name": "python",
      "nbconvert_exporter": "python",
      "pygments_lexer": "ipython3",
      "version": "3.11.4"
    },
    "widgets": {
      "application/vnd.jupyter.widget-state+json": {
        "00796d654a994ac0873fbdd4bc45d403": {
          "model_module": "@jupyter-widgets/base",
          "model_module_version": "1.2.0",
          "model_name": "LayoutModel",
          "state": {
            "_model_module": "@jupyter-widgets/base",
            "_model_module_version": "1.2.0",
            "_model_name": "LayoutModel",
            "_view_count": null,
            "_view_module": "@jupyter-widgets/base",
            "_view_module_version": "1.2.0",
            "_view_name": "LayoutView",
            "align_content": null,
            "align_items": null,
            "align_self": null,
            "border": null,
            "bottom": null,
            "display": null,
            "flex": null,
            "flex_flow": null,
            "grid_area": null,
            "grid_auto_columns": null,
            "grid_auto_flow": null,
            "grid_auto_rows": null,
            "grid_column": null,
            "grid_gap": null,
            "grid_row": null,
            "grid_template_areas": null,
            "grid_template_columns": null,
            "grid_template_rows": null,
            "height": null,
            "justify_content": null,
            "justify_items": null,
            "left": null,
            "margin": null,
            "max_height": null,
            "max_width": null,
            "min_height": null,
            "min_width": null,
            "object_fit": null,
            "object_position": null,
            "order": null,
            "overflow": null,
            "overflow_x": null,
            "overflow_y": null,
            "padding": null,
            "right": null,
            "top": null,
            "visibility": null,
            "width": null
          }
        },
        "0712eb8d5e7440edb5fee062e96f9d4f": {
          "model_module": "@jupyter-widgets/controls",
          "model_module_version": "1.5.0",
          "model_name": "HTMLModel",
          "state": {
            "_dom_classes": [],
            "_model_module": "@jupyter-widgets/controls",
            "_model_module_version": "1.5.0",
            "_model_name": "HTMLModel",
            "_view_count": null,
            "_view_module": "@jupyter-widgets/controls",
            "_view_module_version": "1.5.0",
            "_view_name": "HTMLView",
            "description": "",
            "description_tooltip": null,
            "layout": "IPY_MODEL_580c656f0bbc4b519b78d295063bfe5d",
            "placeholder": "​",
            "style": "IPY_MODEL_21a351309f244610b0f79c05331beb05",
            "value": "config.json: 100%"
          }
        },
        "174e4abbd6b84d8a9c3bb36b3649de03": {
          "model_module": "@jupyter-widgets/base",
          "model_module_version": "1.2.0",
          "model_name": "LayoutModel",
          "state": {
            "_model_module": "@jupyter-widgets/base",
            "_model_module_version": "1.2.0",
            "_model_name": "LayoutModel",
            "_view_count": null,
            "_view_module": "@jupyter-widgets/base",
            "_view_module_version": "1.2.0",
            "_view_name": "LayoutView",
            "align_content": null,
            "align_items": null,
            "align_self": null,
            "border": null,
            "bottom": null,
            "display": null,
            "flex": null,
            "flex_flow": null,
            "grid_area": null,
            "grid_auto_columns": null,
            "grid_auto_flow": null,
            "grid_auto_rows": null,
            "grid_column": null,
            "grid_gap": null,
            "grid_row": null,
            "grid_template_areas": null,
            "grid_template_columns": null,
            "grid_template_rows": null,
            "height": null,
            "justify_content": null,
            "justify_items": null,
            "left": null,
            "margin": null,
            "max_height": null,
            "max_width": null,
            "min_height": null,
            "min_width": null,
            "object_fit": null,
            "object_position": null,
            "order": null,
            "overflow": null,
            "overflow_x": null,
            "overflow_y": null,
            "padding": null,
            "right": null,
            "top": null,
            "visibility": null,
            "width": null
          }
        },
        "194299c656e14046bfd4a979d831f01d": {
          "model_module": "@jupyter-widgets/base",
          "model_module_version": "1.2.0",
          "model_name": "LayoutModel",
          "state": {
            "_model_module": "@jupyter-widgets/base",
            "_model_module_version": "1.2.0",
            "_model_name": "LayoutModel",
            "_view_count": null,
            "_view_module": "@jupyter-widgets/base",
            "_view_module_version": "1.2.0",
            "_view_name": "LayoutView",
            "align_content": null,
            "align_items": null,
            "align_self": null,
            "border": null,
            "bottom": null,
            "display": null,
            "flex": null,
            "flex_flow": null,
            "grid_area": null,
            "grid_auto_columns": null,
            "grid_auto_flow": null,
            "grid_auto_rows": null,
            "grid_column": null,
            "grid_gap": null,
            "grid_row": null,
            "grid_template_areas": null,
            "grid_template_columns": null,
            "grid_template_rows": null,
            "height": null,
            "justify_content": null,
            "justify_items": null,
            "left": null,
            "margin": null,
            "max_height": null,
            "max_width": null,
            "min_height": null,
            "min_width": null,
            "object_fit": null,
            "object_position": null,
            "order": null,
            "overflow": null,
            "overflow_x": null,
            "overflow_y": null,
            "padding": null,
            "right": null,
            "top": null,
            "visibility": null,
            "width": null
          }
        },
        "21a351309f244610b0f79c05331beb05": {
          "model_module": "@jupyter-widgets/controls",
          "model_module_version": "1.5.0",
          "model_name": "DescriptionStyleModel",
          "state": {
            "_model_module": "@jupyter-widgets/controls",
            "_model_module_version": "1.5.0",
            "_model_name": "DescriptionStyleModel",
            "_view_count": null,
            "_view_module": "@jupyter-widgets/base",
            "_view_module_version": "1.2.0",
            "_view_name": "StyleView",
            "description_width": ""
          }
        },
        "21e5be1884044d31bbf561d5e915cabc": {
          "model_module": "@jupyter-widgets/controls",
          "model_module_version": "1.5.0",
          "model_name": "HTMLModel",
          "state": {
            "_dom_classes": [],
            "_model_module": "@jupyter-widgets/controls",
            "_model_module_version": "1.5.0",
            "_model_name": "HTMLModel",
            "_view_count": null,
            "_view_module": "@jupyter-widgets/controls",
            "_view_module_version": "1.5.0",
            "_view_name": "HTMLView",
            "description": "",
            "description_tooltip": null,
            "layout": "IPY_MODEL_388365b114f04646875a4e65b54732f1",
            "placeholder": "​",
            "style": "IPY_MODEL_9b2fa21f6aab4f45b38bb66d211d81d6",
            "value": "tokenizer_config.json: 100%"
          }
        },
        "2542afdc66d94409ba71ffa27b01a36e": {
          "model_module": "@jupyter-widgets/controls",
          "model_module_version": "1.5.0",
          "model_name": "ProgressStyleModel",
          "state": {
            "_model_module": "@jupyter-widgets/controls",
            "_model_module_version": "1.5.0",
            "_model_name": "ProgressStyleModel",
            "_view_count": null,
            "_view_module": "@jupyter-widgets/base",
            "_view_module_version": "1.2.0",
            "_view_name": "StyleView",
            "bar_color": null,
            "description_width": ""
          }
        },
        "298e847663514a1ba0fd739c82687e0a": {
          "model_module": "@jupyter-widgets/controls",
          "model_module_version": "1.5.0",
          "model_name": "DescriptionStyleModel",
          "state": {
            "_model_module": "@jupyter-widgets/controls",
            "_model_module_version": "1.5.0",
            "_model_name": "DescriptionStyleModel",
            "_view_count": null,
            "_view_module": "@jupyter-widgets/base",
            "_view_module_version": "1.2.0",
            "_view_name": "StyleView",
            "description_width": ""
          }
        },
        "388365b114f04646875a4e65b54732f1": {
          "model_module": "@jupyter-widgets/base",
          "model_module_version": "1.2.0",
          "model_name": "LayoutModel",
          "state": {
            "_model_module": "@jupyter-widgets/base",
            "_model_module_version": "1.2.0",
            "_model_name": "LayoutModel",
            "_view_count": null,
            "_view_module": "@jupyter-widgets/base",
            "_view_module_version": "1.2.0",
            "_view_name": "LayoutView",
            "align_content": null,
            "align_items": null,
            "align_self": null,
            "border": null,
            "bottom": null,
            "display": null,
            "flex": null,
            "flex_flow": null,
            "grid_area": null,
            "grid_auto_columns": null,
            "grid_auto_flow": null,
            "grid_auto_rows": null,
            "grid_column": null,
            "grid_gap": null,
            "grid_row": null,
            "grid_template_areas": null,
            "grid_template_columns": null,
            "grid_template_rows": null,
            "height": null,
            "justify_content": null,
            "justify_items": null,
            "left": null,
            "margin": null,
            "max_height": null,
            "max_width": null,
            "min_height": null,
            "min_width": null,
            "object_fit": null,
            "object_position": null,
            "order": null,
            "overflow": null,
            "overflow_x": null,
            "overflow_y": null,
            "padding": null,
            "right": null,
            "top": null,
            "visibility": null,
            "width": null
          }
        },
        "398d329597b0438daf21b20d773d724e": {
          "model_module": "@jupyter-widgets/base",
          "model_module_version": "1.2.0",
          "model_name": "LayoutModel",
          "state": {
            "_model_module": "@jupyter-widgets/base",
            "_model_module_version": "1.2.0",
            "_model_name": "LayoutModel",
            "_view_count": null,
            "_view_module": "@jupyter-widgets/base",
            "_view_module_version": "1.2.0",
            "_view_name": "LayoutView",
            "align_content": null,
            "align_items": null,
            "align_self": null,
            "border": null,
            "bottom": null,
            "display": null,
            "flex": null,
            "flex_flow": null,
            "grid_area": null,
            "grid_auto_columns": null,
            "grid_auto_flow": null,
            "grid_auto_rows": null,
            "grid_column": null,
            "grid_gap": null,
            "grid_row": null,
            "grid_template_areas": null,
            "grid_template_columns": null,
            "grid_template_rows": null,
            "height": null,
            "justify_content": null,
            "justify_items": null,
            "left": null,
            "margin": null,
            "max_height": null,
            "max_width": null,
            "min_height": null,
            "min_width": null,
            "object_fit": null,
            "object_position": null,
            "order": null,
            "overflow": null,
            "overflow_x": null,
            "overflow_y": null,
            "padding": null,
            "right": null,
            "top": null,
            "visibility": null,
            "width": null
          }
        },
        "3c1670753aa64c6781719f0274e364ab": {
          "model_module": "@jupyter-widgets/controls",
          "model_module_version": "1.5.0",
          "model_name": "DescriptionStyleModel",
          "state": {
            "_model_module": "@jupyter-widgets/controls",
            "_model_module_version": "1.5.0",
            "_model_name": "DescriptionStyleModel",
            "_view_count": null,
            "_view_module": "@jupyter-widgets/base",
            "_view_module_version": "1.2.0",
            "_view_name": "StyleView",
            "description_width": ""
          }
        },
        "439e2cc8136241d4bc3cadf87789ba5a": {
          "model_module": "@jupyter-widgets/controls",
          "model_module_version": "1.5.0",
          "model_name": "HTMLModel",
          "state": {
            "_dom_classes": [],
            "_model_module": "@jupyter-widgets/controls",
            "_model_module_version": "1.5.0",
            "_model_name": "HTMLModel",
            "_view_count": null,
            "_view_module": "@jupyter-widgets/controls",
            "_view_module_version": "1.5.0",
            "_view_name": "HTMLView",
            "description": "",
            "description_tooltip": null,
            "layout": "IPY_MODEL_194299c656e14046bfd4a979d831f01d",
            "placeholder": "​",
            "style": "IPY_MODEL_cbcff06840a243f4a49990b127a673dd",
            "value": "model.safetensors: 100%"
          }
        },
        "4f78972e5cca466385af24d06b4e9183": {
          "model_module": "@jupyter-widgets/controls",
          "model_module_version": "1.5.0",
          "model_name": "DescriptionStyleModel",
          "state": {
            "_model_module": "@jupyter-widgets/controls",
            "_model_module_version": "1.5.0",
            "_model_name": "DescriptionStyleModel",
            "_view_count": null,
            "_view_module": "@jupyter-widgets/base",
            "_view_module_version": "1.2.0",
            "_view_name": "StyleView",
            "description_width": ""
          }
        },
        "4f89ceeec58f413c8a1a18b658134590": {
          "model_module": "@jupyter-widgets/base",
          "model_module_version": "1.2.0",
          "model_name": "LayoutModel",
          "state": {
            "_model_module": "@jupyter-widgets/base",
            "_model_module_version": "1.2.0",
            "_model_name": "LayoutModel",
            "_view_count": null,
            "_view_module": "@jupyter-widgets/base",
            "_view_module_version": "1.2.0",
            "_view_name": "LayoutView",
            "align_content": null,
            "align_items": null,
            "align_self": null,
            "border": null,
            "bottom": null,
            "display": null,
            "flex": null,
            "flex_flow": null,
            "grid_area": null,
            "grid_auto_columns": null,
            "grid_auto_flow": null,
            "grid_auto_rows": null,
            "grid_column": null,
            "grid_gap": null,
            "grid_row": null,
            "grid_template_areas": null,
            "grid_template_columns": null,
            "grid_template_rows": null,
            "height": null,
            "justify_content": null,
            "justify_items": null,
            "left": null,
            "margin": null,
            "max_height": null,
            "max_width": null,
            "min_height": null,
            "min_width": null,
            "object_fit": null,
            "object_position": null,
            "order": null,
            "overflow": null,
            "overflow_x": null,
            "overflow_y": null,
            "padding": null,
            "right": null,
            "top": null,
            "visibility": null,
            "width": null
          }
        },
        "51b091ab5792402b9a0fc82fccfbd8e6": {
          "model_module": "@jupyter-widgets/controls",
          "model_module_version": "1.5.0",
          "model_name": "HTMLModel",
          "state": {
            "_dom_classes": [],
            "_model_module": "@jupyter-widgets/controls",
            "_model_module_version": "1.5.0",
            "_model_name": "HTMLModel",
            "_view_count": null,
            "_view_module": "@jupyter-widgets/controls",
            "_view_module_version": "1.5.0",
            "_view_name": "HTMLView",
            "description": "",
            "description_tooltip": null,
            "layout": "IPY_MODEL_174e4abbd6b84d8a9c3bb36b3649de03",
            "placeholder": "​",
            "style": "IPY_MODEL_77f02a6544644f9aa16887d62970811b",
            "value": " 48.0/48.0 [00:00&lt;00:00, 3.19kB/s]"
          }
        },
        "54b427d134b145e09070d4930c781b2f": {
          "model_module": "@jupyter-widgets/controls",
          "model_module_version": "1.5.0",
          "model_name": "HTMLModel",
          "state": {
            "_dom_classes": [],
            "_model_module": "@jupyter-widgets/controls",
            "_model_module_version": "1.5.0",
            "_model_name": "HTMLModel",
            "_view_count": null,
            "_view_module": "@jupyter-widgets/controls",
            "_view_module_version": "1.5.0",
            "_view_name": "HTMLView",
            "description": "",
            "description_tooltip": null,
            "layout": "IPY_MODEL_5a5f4fbfdc744821a1b5833a6ab2cc3d",
            "placeholder": "​",
            "style": "IPY_MODEL_c081925479384743b6e98a1f6e182116",
            "value": " 466k/466k [00:00&lt;00:00, 25.7MB/s]"
          }
        },
        "56b32972f5a54901a7810616674aed7f": {
          "model_module": "@jupyter-widgets/controls",
          "model_module_version": "1.5.0",
          "model_name": "HBoxModel",
          "state": {
            "_dom_classes": [],
            "_model_module": "@jupyter-widgets/controls",
            "_model_module_version": "1.5.0",
            "_model_name": "HBoxModel",
            "_view_count": null,
            "_view_module": "@jupyter-widgets/controls",
            "_view_module_version": "1.5.0",
            "_view_name": "HBoxView",
            "box_style": "",
            "children": [
              "IPY_MODEL_439e2cc8136241d4bc3cadf87789ba5a",
              "IPY_MODEL_e7c680d119594d80a6d3365c8e340812",
              "IPY_MODEL_c92d717c8b804b7f86860ed50879f5de"
            ],
            "layout": "IPY_MODEL_cfb75f2e166044bc99457742a63b0c46"
          }
        },
        "580c656f0bbc4b519b78d295063bfe5d": {
          "model_module": "@jupyter-widgets/base",
          "model_module_version": "1.2.0",
          "model_name": "LayoutModel",
          "state": {
            "_model_module": "@jupyter-widgets/base",
            "_model_module_version": "1.2.0",
            "_model_name": "LayoutModel",
            "_view_count": null,
            "_view_module": "@jupyter-widgets/base",
            "_view_module_version": "1.2.0",
            "_view_name": "LayoutView",
            "align_content": null,
            "align_items": null,
            "align_self": null,
            "border": null,
            "bottom": null,
            "display": null,
            "flex": null,
            "flex_flow": null,
            "grid_area": null,
            "grid_auto_columns": null,
            "grid_auto_flow": null,
            "grid_auto_rows": null,
            "grid_column": null,
            "grid_gap": null,
            "grid_row": null,
            "grid_template_areas": null,
            "grid_template_columns": null,
            "grid_template_rows": null,
            "height": null,
            "justify_content": null,
            "justify_items": null,
            "left": null,
            "margin": null,
            "max_height": null,
            "max_width": null,
            "min_height": null,
            "min_width": null,
            "object_fit": null,
            "object_position": null,
            "order": null,
            "overflow": null,
            "overflow_x": null,
            "overflow_y": null,
            "padding": null,
            "right": null,
            "top": null,
            "visibility": null,
            "width": null
          }
        },
        "5a5f4fbfdc744821a1b5833a6ab2cc3d": {
          "model_module": "@jupyter-widgets/base",
          "model_module_version": "1.2.0",
          "model_name": "LayoutModel",
          "state": {
            "_model_module": "@jupyter-widgets/base",
            "_model_module_version": "1.2.0",
            "_model_name": "LayoutModel",
            "_view_count": null,
            "_view_module": "@jupyter-widgets/base",
            "_view_module_version": "1.2.0",
            "_view_name": "LayoutView",
            "align_content": null,
            "align_items": null,
            "align_self": null,
            "border": null,
            "bottom": null,
            "display": null,
            "flex": null,
            "flex_flow": null,
            "grid_area": null,
            "grid_auto_columns": null,
            "grid_auto_flow": null,
            "grid_auto_rows": null,
            "grid_column": null,
            "grid_gap": null,
            "grid_row": null,
            "grid_template_areas": null,
            "grid_template_columns": null,
            "grid_template_rows": null,
            "height": null,
            "justify_content": null,
            "justify_items": null,
            "left": null,
            "margin": null,
            "max_height": null,
            "max_width": null,
            "min_height": null,
            "min_width": null,
            "object_fit": null,
            "object_position": null,
            "order": null,
            "overflow": null,
            "overflow_x": null,
            "overflow_y": null,
            "padding": null,
            "right": null,
            "top": null,
            "visibility": null,
            "width": null
          }
        },
        "5c9cd38b1c5a4fd09829d8b254213c05": {
          "model_module": "@jupyter-widgets/base",
          "model_module_version": "1.2.0",
          "model_name": "LayoutModel",
          "state": {
            "_model_module": "@jupyter-widgets/base",
            "_model_module_version": "1.2.0",
            "_model_name": "LayoutModel",
            "_view_count": null,
            "_view_module": "@jupyter-widgets/base",
            "_view_module_version": "1.2.0",
            "_view_name": "LayoutView",
            "align_content": null,
            "align_items": null,
            "align_self": null,
            "border": null,
            "bottom": null,
            "display": null,
            "flex": null,
            "flex_flow": null,
            "grid_area": null,
            "grid_auto_columns": null,
            "grid_auto_flow": null,
            "grid_auto_rows": null,
            "grid_column": null,
            "grid_gap": null,
            "grid_row": null,
            "grid_template_areas": null,
            "grid_template_columns": null,
            "grid_template_rows": null,
            "height": null,
            "justify_content": null,
            "justify_items": null,
            "left": null,
            "margin": null,
            "max_height": null,
            "max_width": null,
            "min_height": null,
            "min_width": null,
            "object_fit": null,
            "object_position": null,
            "order": null,
            "overflow": null,
            "overflow_x": null,
            "overflow_y": null,
            "padding": null,
            "right": null,
            "top": null,
            "visibility": null,
            "width": null
          }
        },
        "5ec34618fe27478e9d8eab0d69f66c27": {
          "model_module": "@jupyter-widgets/controls",
          "model_module_version": "1.5.0",
          "model_name": "ProgressStyleModel",
          "state": {
            "_model_module": "@jupyter-widgets/controls",
            "_model_module_version": "1.5.0",
            "_model_name": "ProgressStyleModel",
            "_view_count": null,
            "_view_module": "@jupyter-widgets/base",
            "_view_module_version": "1.2.0",
            "_view_name": "StyleView",
            "bar_color": null,
            "description_width": ""
          }
        },
        "60ccbaaa90684fbc9800f6def7b0d502": {
          "model_module": "@jupyter-widgets/base",
          "model_module_version": "1.2.0",
          "model_name": "LayoutModel",
          "state": {
            "_model_module": "@jupyter-widgets/base",
            "_model_module_version": "1.2.0",
            "_model_name": "LayoutModel",
            "_view_count": null,
            "_view_module": "@jupyter-widgets/base",
            "_view_module_version": "1.2.0",
            "_view_name": "LayoutView",
            "align_content": null,
            "align_items": null,
            "align_self": null,
            "border": null,
            "bottom": null,
            "display": null,
            "flex": null,
            "flex_flow": null,
            "grid_area": null,
            "grid_auto_columns": null,
            "grid_auto_flow": null,
            "grid_auto_rows": null,
            "grid_column": null,
            "grid_gap": null,
            "grid_row": null,
            "grid_template_areas": null,
            "grid_template_columns": null,
            "grid_template_rows": null,
            "height": null,
            "justify_content": null,
            "justify_items": null,
            "left": null,
            "margin": null,
            "max_height": null,
            "max_width": null,
            "min_height": null,
            "min_width": null,
            "object_fit": null,
            "object_position": null,
            "order": null,
            "overflow": null,
            "overflow_x": null,
            "overflow_y": null,
            "padding": null,
            "right": null,
            "top": null,
            "visibility": null,
            "width": null
          }
        },
        "634ac316b49a41819fccae7026873382": {
          "model_module": "@jupyter-widgets/controls",
          "model_module_version": "1.5.0",
          "model_name": "FloatProgressModel",
          "state": {
            "_dom_classes": [],
            "_model_module": "@jupyter-widgets/controls",
            "_model_module_version": "1.5.0",
            "_model_name": "FloatProgressModel",
            "_view_count": null,
            "_view_module": "@jupyter-widgets/controls",
            "_view_module_version": "1.5.0",
            "_view_name": "ProgressView",
            "bar_style": "success",
            "description": "",
            "description_tooltip": null,
            "layout": "IPY_MODEL_bf91e5f83f964c3fb23dceaa564b7cf5",
            "max": 483,
            "min": 0,
            "orientation": "horizontal",
            "style": "IPY_MODEL_819620dacece47538cf84abfee1b25c1",
            "value": 483
          }
        },
        "6ba7859d67b344f69c17b62c74023707": {
          "model_module": "@jupyter-widgets/controls",
          "model_module_version": "1.5.0",
          "model_name": "DescriptionStyleModel",
          "state": {
            "_model_module": "@jupyter-widgets/controls",
            "_model_module_version": "1.5.0",
            "_model_name": "DescriptionStyleModel",
            "_view_count": null,
            "_view_module": "@jupyter-widgets/base",
            "_view_module_version": "1.2.0",
            "_view_name": "StyleView",
            "description_width": ""
          }
        },
        "6c47f5a666004ad0a337c42d70840ba0": {
          "model_module": "@jupyter-widgets/base",
          "model_module_version": "1.2.0",
          "model_name": "LayoutModel",
          "state": {
            "_model_module": "@jupyter-widgets/base",
            "_model_module_version": "1.2.0",
            "_model_name": "LayoutModel",
            "_view_count": null,
            "_view_module": "@jupyter-widgets/base",
            "_view_module_version": "1.2.0",
            "_view_name": "LayoutView",
            "align_content": null,
            "align_items": null,
            "align_self": null,
            "border": null,
            "bottom": null,
            "display": null,
            "flex": null,
            "flex_flow": null,
            "grid_area": null,
            "grid_auto_columns": null,
            "grid_auto_flow": null,
            "grid_auto_rows": null,
            "grid_column": null,
            "grid_gap": null,
            "grid_row": null,
            "grid_template_areas": null,
            "grid_template_columns": null,
            "grid_template_rows": null,
            "height": null,
            "justify_content": null,
            "justify_items": null,
            "left": null,
            "margin": null,
            "max_height": null,
            "max_width": null,
            "min_height": null,
            "min_width": null,
            "object_fit": null,
            "object_position": null,
            "order": null,
            "overflow": null,
            "overflow_x": null,
            "overflow_y": null,
            "padding": null,
            "right": null,
            "top": null,
            "visibility": null,
            "width": null
          }
        },
        "77f02a6544644f9aa16887d62970811b": {
          "model_module": "@jupyter-widgets/controls",
          "model_module_version": "1.5.0",
          "model_name": "DescriptionStyleModel",
          "state": {
            "_model_module": "@jupyter-widgets/controls",
            "_model_module_version": "1.5.0",
            "_model_name": "DescriptionStyleModel",
            "_view_count": null,
            "_view_module": "@jupyter-widgets/base",
            "_view_module_version": "1.2.0",
            "_view_name": "StyleView",
            "description_width": ""
          }
        },
        "7864f631dd3a422883399de959564181": {
          "model_module": "@jupyter-widgets/controls",
          "model_module_version": "1.5.0",
          "model_name": "FloatProgressModel",
          "state": {
            "_dom_classes": [],
            "_model_module": "@jupyter-widgets/controls",
            "_model_module_version": "1.5.0",
            "_model_name": "FloatProgressModel",
            "_view_count": null,
            "_view_module": "@jupyter-widgets/controls",
            "_view_module_version": "1.5.0",
            "_view_name": "ProgressView",
            "bar_style": "success",
            "description": "",
            "description_tooltip": null,
            "layout": "IPY_MODEL_4f89ceeec58f413c8a1a18b658134590",
            "max": 48,
            "min": 0,
            "orientation": "horizontal",
            "style": "IPY_MODEL_dce75581a2014d219b7b993772b4c3f9",
            "value": 48
          }
        },
        "80da296687c847deaad2f1d720c83bfd": {
          "model_module": "@jupyter-widgets/controls",
          "model_module_version": "1.5.0",
          "model_name": "HBoxModel",
          "state": {
            "_dom_classes": [],
            "_model_module": "@jupyter-widgets/controls",
            "_model_module_version": "1.5.0",
            "_model_name": "HBoxModel",
            "_view_count": null,
            "_view_module": "@jupyter-widgets/controls",
            "_view_module_version": "1.5.0",
            "_view_name": "HBoxView",
            "box_style": "",
            "children": [
              "IPY_MODEL_0712eb8d5e7440edb5fee062e96f9d4f",
              "IPY_MODEL_634ac316b49a41819fccae7026873382",
              "IPY_MODEL_82337ce5d9134a89b2a0e09e67e687f0"
            ],
            "layout": "IPY_MODEL_bdff2d31efd84b16b3cb31dcc81e6f2b"
          }
        },
        "819620dacece47538cf84abfee1b25c1": {
          "model_module": "@jupyter-widgets/controls",
          "model_module_version": "1.5.0",
          "model_name": "ProgressStyleModel",
          "state": {
            "_model_module": "@jupyter-widgets/controls",
            "_model_module_version": "1.5.0",
            "_model_name": "ProgressStyleModel",
            "_view_count": null,
            "_view_module": "@jupyter-widgets/base",
            "_view_module_version": "1.2.0",
            "_view_name": "StyleView",
            "bar_color": null,
            "description_width": ""
          }
        },
        "82337ce5d9134a89b2a0e09e67e687f0": {
          "model_module": "@jupyter-widgets/controls",
          "model_module_version": "1.5.0",
          "model_name": "HTMLModel",
          "state": {
            "_dom_classes": [],
            "_model_module": "@jupyter-widgets/controls",
            "_model_module_version": "1.5.0",
            "_model_name": "HTMLModel",
            "_view_count": null,
            "_view_module": "@jupyter-widgets/controls",
            "_view_module_version": "1.5.0",
            "_view_name": "HTMLView",
            "description": "",
            "description_tooltip": null,
            "layout": "IPY_MODEL_d82f1ef4558046ba86760282e349f992",
            "placeholder": "​",
            "style": "IPY_MODEL_4f78972e5cca466385af24d06b4e9183",
            "value": " 483/483 [00:00&lt;00:00, 61.2kB/s]"
          }
        },
        "888c6fcc6bde45bcac0c600b8d1e1b67": {
          "model_module": "@jupyter-widgets/controls",
          "model_module_version": "1.5.0",
          "model_name": "HBoxModel",
          "state": {
            "_dom_classes": [],
            "_model_module": "@jupyter-widgets/controls",
            "_model_module_version": "1.5.0",
            "_model_name": "HBoxModel",
            "_view_count": null,
            "_view_module": "@jupyter-widgets/controls",
            "_view_module_version": "1.5.0",
            "_view_name": "HBoxView",
            "box_style": "",
            "children": [
              "IPY_MODEL_21e5be1884044d31bbf561d5e915cabc",
              "IPY_MODEL_7864f631dd3a422883399de959564181",
              "IPY_MODEL_51b091ab5792402b9a0fc82fccfbd8e6"
            ],
            "layout": "IPY_MODEL_00796d654a994ac0873fbdd4bc45d403"
          }
        },
        "924f99f2ac89416b96903fddbb2f83a9": {
          "model_module": "@jupyter-widgets/controls",
          "model_module_version": "1.5.0",
          "model_name": "HTMLModel",
          "state": {
            "_dom_classes": [],
            "_model_module": "@jupyter-widgets/controls",
            "_model_module_version": "1.5.0",
            "_model_name": "HTMLModel",
            "_view_count": null,
            "_view_module": "@jupyter-widgets/controls",
            "_view_module_version": "1.5.0",
            "_view_name": "HTMLView",
            "description": "",
            "description_tooltip": null,
            "layout": "IPY_MODEL_5c9cd38b1c5a4fd09829d8b254213c05",
            "placeholder": "​",
            "style": "IPY_MODEL_298e847663514a1ba0fd739c82687e0a",
            "value": "tokenizer.json: 100%"
          }
        },
        "9b2fa21f6aab4f45b38bb66d211d81d6": {
          "model_module": "@jupyter-widgets/controls",
          "model_module_version": "1.5.0",
          "model_name": "DescriptionStyleModel",
          "state": {
            "_model_module": "@jupyter-widgets/controls",
            "_model_module_version": "1.5.0",
            "_model_name": "DescriptionStyleModel",
            "_view_count": null,
            "_view_module": "@jupyter-widgets/base",
            "_view_module_version": "1.2.0",
            "_view_name": "StyleView",
            "description_width": ""
          }
        },
        "9fc21e3c96984b548f18d8dcd70fb603": {
          "model_module": "@jupyter-widgets/controls",
          "model_module_version": "1.5.0",
          "model_name": "FloatProgressModel",
          "state": {
            "_dom_classes": [],
            "_model_module": "@jupyter-widgets/controls",
            "_model_module_version": "1.5.0",
            "_model_name": "FloatProgressModel",
            "_view_count": null,
            "_view_module": "@jupyter-widgets/controls",
            "_view_module_version": "1.5.0",
            "_view_name": "ProgressView",
            "bar_style": "success",
            "description": "",
            "description_tooltip": null,
            "layout": "IPY_MODEL_f490500a58994b56be3dd233050d6ea7",
            "max": 466062,
            "min": 0,
            "orientation": "horizontal",
            "style": "IPY_MODEL_e6758f3e2f734839bd0f0ca6d4a20d80",
            "value": 466062
          }
        },
        "a254b4f5701844d6bc4934db969f2199": {
          "model_module": "@jupyter-widgets/base",
          "model_module_version": "1.2.0",
          "model_name": "LayoutModel",
          "state": {
            "_model_module": "@jupyter-widgets/base",
            "_model_module_version": "1.2.0",
            "_model_name": "LayoutModel",
            "_view_count": null,
            "_view_module": "@jupyter-widgets/base",
            "_view_module_version": "1.2.0",
            "_view_name": "LayoutView",
            "align_content": null,
            "align_items": null,
            "align_self": null,
            "border": null,
            "bottom": null,
            "display": null,
            "flex": null,
            "flex_flow": null,
            "grid_area": null,
            "grid_auto_columns": null,
            "grid_auto_flow": null,
            "grid_auto_rows": null,
            "grid_column": null,
            "grid_gap": null,
            "grid_row": null,
            "grid_template_areas": null,
            "grid_template_columns": null,
            "grid_template_rows": null,
            "height": null,
            "justify_content": null,
            "justify_items": null,
            "left": null,
            "margin": null,
            "max_height": null,
            "max_width": null,
            "min_height": null,
            "min_width": null,
            "object_fit": null,
            "object_position": null,
            "order": null,
            "overflow": null,
            "overflow_x": null,
            "overflow_y": null,
            "padding": null,
            "right": null,
            "top": null,
            "visibility": null,
            "width": null
          }
        },
        "a303f3a140544138bd9864b3ad6ea62d": {
          "model_module": "@jupyter-widgets/controls",
          "model_module_version": "1.5.0",
          "model_name": "HBoxModel",
          "state": {
            "_dom_classes": [],
            "_model_module": "@jupyter-widgets/controls",
            "_model_module_version": "1.5.0",
            "_model_name": "HBoxModel",
            "_view_count": null,
            "_view_module": "@jupyter-widgets/controls",
            "_view_module_version": "1.5.0",
            "_view_name": "HBoxView",
            "box_style": "",
            "children": [
              "IPY_MODEL_e17c06a505334db1b6ca531c44ff8379",
              "IPY_MODEL_b7d19a4d3d2a451797db1baa3b0262bf",
              "IPY_MODEL_a63ac548a35a42a4b44527829a4ee240"
            ],
            "layout": "IPY_MODEL_398d329597b0438daf21b20d773d724e"
          }
        },
        "a63ac548a35a42a4b44527829a4ee240": {
          "model_module": "@jupyter-widgets/controls",
          "model_module_version": "1.5.0",
          "model_name": "HTMLModel",
          "state": {
            "_dom_classes": [],
            "_model_module": "@jupyter-widgets/controls",
            "_model_module_version": "1.5.0",
            "_model_name": "HTMLModel",
            "_view_count": null,
            "_view_module": "@jupyter-widgets/controls",
            "_view_module_version": "1.5.0",
            "_view_name": "HTMLView",
            "description": "",
            "description_tooltip": null,
            "layout": "IPY_MODEL_a254b4f5701844d6bc4934db969f2199",
            "placeholder": "​",
            "style": "IPY_MODEL_3c1670753aa64c6781719f0274e364ab",
            "value": " 232k/232k [00:00&lt;00:00, 1.08MB/s]"
          }
        },
        "a795b907dcf54caba8c2f5db860e205f": {
          "model_module": "@jupyter-widgets/base",
          "model_module_version": "1.2.0",
          "model_name": "LayoutModel",
          "state": {
            "_model_module": "@jupyter-widgets/base",
            "_model_module_version": "1.2.0",
            "_model_name": "LayoutModel",
            "_view_count": null,
            "_view_module": "@jupyter-widgets/base",
            "_view_module_version": "1.2.0",
            "_view_name": "LayoutView",
            "align_content": null,
            "align_items": null,
            "align_self": null,
            "border": null,
            "bottom": null,
            "display": null,
            "flex": null,
            "flex_flow": null,
            "grid_area": null,
            "grid_auto_columns": null,
            "grid_auto_flow": null,
            "grid_auto_rows": null,
            "grid_column": null,
            "grid_gap": null,
            "grid_row": null,
            "grid_template_areas": null,
            "grid_template_columns": null,
            "grid_template_rows": null,
            "height": null,
            "justify_content": null,
            "justify_items": null,
            "left": null,
            "margin": null,
            "max_height": null,
            "max_width": null,
            "min_height": null,
            "min_width": null,
            "object_fit": null,
            "object_position": null,
            "order": null,
            "overflow": null,
            "overflow_x": null,
            "overflow_y": null,
            "padding": null,
            "right": null,
            "top": null,
            "visibility": null,
            "width": null
          }
        },
        "a9b47a0d77c24cb2aa409720e0baff62": {
          "model_module": "@jupyter-widgets/controls",
          "model_module_version": "1.5.0",
          "model_name": "DescriptionStyleModel",
          "state": {
            "_model_module": "@jupyter-widgets/controls",
            "_model_module_version": "1.5.0",
            "_model_name": "DescriptionStyleModel",
            "_view_count": null,
            "_view_module": "@jupyter-widgets/base",
            "_view_module_version": "1.2.0",
            "_view_name": "StyleView",
            "description_width": ""
          }
        },
        "b7d19a4d3d2a451797db1baa3b0262bf": {
          "model_module": "@jupyter-widgets/controls",
          "model_module_version": "1.5.0",
          "model_name": "FloatProgressModel",
          "state": {
            "_dom_classes": [],
            "_model_module": "@jupyter-widgets/controls",
            "_model_module_version": "1.5.0",
            "_model_name": "FloatProgressModel",
            "_view_count": null,
            "_view_module": "@jupyter-widgets/controls",
            "_view_module_version": "1.5.0",
            "_view_name": "ProgressView",
            "bar_style": "success",
            "description": "",
            "description_tooltip": null,
            "layout": "IPY_MODEL_60ccbaaa90684fbc9800f6def7b0d502",
            "max": 231508,
            "min": 0,
            "orientation": "horizontal",
            "style": "IPY_MODEL_2542afdc66d94409ba71ffa27b01a36e",
            "value": 231508
          }
        },
        "bdff2d31efd84b16b3cb31dcc81e6f2b": {
          "model_module": "@jupyter-widgets/base",
          "model_module_version": "1.2.0",
          "model_name": "LayoutModel",
          "state": {
            "_model_module": "@jupyter-widgets/base",
            "_model_module_version": "1.2.0",
            "_model_name": "LayoutModel",
            "_view_count": null,
            "_view_module": "@jupyter-widgets/base",
            "_view_module_version": "1.2.0",
            "_view_name": "LayoutView",
            "align_content": null,
            "align_items": null,
            "align_self": null,
            "border": null,
            "bottom": null,
            "display": null,
            "flex": null,
            "flex_flow": null,
            "grid_area": null,
            "grid_auto_columns": null,
            "grid_auto_flow": null,
            "grid_auto_rows": null,
            "grid_column": null,
            "grid_gap": null,
            "grid_row": null,
            "grid_template_areas": null,
            "grid_template_columns": null,
            "grid_template_rows": null,
            "height": null,
            "justify_content": null,
            "justify_items": null,
            "left": null,
            "margin": null,
            "max_height": null,
            "max_width": null,
            "min_height": null,
            "min_width": null,
            "object_fit": null,
            "object_position": null,
            "order": null,
            "overflow": null,
            "overflow_x": null,
            "overflow_y": null,
            "padding": null,
            "right": null,
            "top": null,
            "visibility": null,
            "width": null
          }
        },
        "bf91e5f83f964c3fb23dceaa564b7cf5": {
          "model_module": "@jupyter-widgets/base",
          "model_module_version": "1.2.0",
          "model_name": "LayoutModel",
          "state": {
            "_model_module": "@jupyter-widgets/base",
            "_model_module_version": "1.2.0",
            "_model_name": "LayoutModel",
            "_view_count": null,
            "_view_module": "@jupyter-widgets/base",
            "_view_module_version": "1.2.0",
            "_view_name": "LayoutView",
            "align_content": null,
            "align_items": null,
            "align_self": null,
            "border": null,
            "bottom": null,
            "display": null,
            "flex": null,
            "flex_flow": null,
            "grid_area": null,
            "grid_auto_columns": null,
            "grid_auto_flow": null,
            "grid_auto_rows": null,
            "grid_column": null,
            "grid_gap": null,
            "grid_row": null,
            "grid_template_areas": null,
            "grid_template_columns": null,
            "grid_template_rows": null,
            "height": null,
            "justify_content": null,
            "justify_items": null,
            "left": null,
            "margin": null,
            "max_height": null,
            "max_width": null,
            "min_height": null,
            "min_width": null,
            "object_fit": null,
            "object_position": null,
            "order": null,
            "overflow": null,
            "overflow_x": null,
            "overflow_y": null,
            "padding": null,
            "right": null,
            "top": null,
            "visibility": null,
            "width": null
          }
        },
        "c081925479384743b6e98a1f6e182116": {
          "model_module": "@jupyter-widgets/controls",
          "model_module_version": "1.5.0",
          "model_name": "DescriptionStyleModel",
          "state": {
            "_model_module": "@jupyter-widgets/controls",
            "_model_module_version": "1.5.0",
            "_model_name": "DescriptionStyleModel",
            "_view_count": null,
            "_view_module": "@jupyter-widgets/base",
            "_view_module_version": "1.2.0",
            "_view_name": "StyleView",
            "description_width": ""
          }
        },
        "c92d717c8b804b7f86860ed50879f5de": {
          "model_module": "@jupyter-widgets/controls",
          "model_module_version": "1.5.0",
          "model_name": "HTMLModel",
          "state": {
            "_dom_classes": [],
            "_model_module": "@jupyter-widgets/controls",
            "_model_module_version": "1.5.0",
            "_model_name": "HTMLModel",
            "_view_count": null,
            "_view_module": "@jupyter-widgets/controls",
            "_view_module_version": "1.5.0",
            "_view_name": "HTMLView",
            "description": "",
            "description_tooltip": null,
            "layout": "IPY_MODEL_6c47f5a666004ad0a337c42d70840ba0",
            "placeholder": "​",
            "style": "IPY_MODEL_6ba7859d67b344f69c17b62c74023707",
            "value": " 268M/268M [00:00&lt;00:00, 333MB/s]"
          }
        },
        "ca3459d6b66d411a850b990939d4741e": {
          "model_module": "@jupyter-widgets/base",
          "model_module_version": "1.2.0",
          "model_name": "LayoutModel",
          "state": {
            "_model_module": "@jupyter-widgets/base",
            "_model_module_version": "1.2.0",
            "_model_name": "LayoutModel",
            "_view_count": null,
            "_view_module": "@jupyter-widgets/base",
            "_view_module_version": "1.2.0",
            "_view_name": "LayoutView",
            "align_content": null,
            "align_items": null,
            "align_self": null,
            "border": null,
            "bottom": null,
            "display": null,
            "flex": null,
            "flex_flow": null,
            "grid_area": null,
            "grid_auto_columns": null,
            "grid_auto_flow": null,
            "grid_auto_rows": null,
            "grid_column": null,
            "grid_gap": null,
            "grid_row": null,
            "grid_template_areas": null,
            "grid_template_columns": null,
            "grid_template_rows": null,
            "height": null,
            "justify_content": null,
            "justify_items": null,
            "left": null,
            "margin": null,
            "max_height": null,
            "max_width": null,
            "min_height": null,
            "min_width": null,
            "object_fit": null,
            "object_position": null,
            "order": null,
            "overflow": null,
            "overflow_x": null,
            "overflow_y": null,
            "padding": null,
            "right": null,
            "top": null,
            "visibility": null,
            "width": null
          }
        },
        "cbcff06840a243f4a49990b127a673dd": {
          "model_module": "@jupyter-widgets/controls",
          "model_module_version": "1.5.0",
          "model_name": "DescriptionStyleModel",
          "state": {
            "_model_module": "@jupyter-widgets/controls",
            "_model_module_version": "1.5.0",
            "_model_name": "DescriptionStyleModel",
            "_view_count": null,
            "_view_module": "@jupyter-widgets/base",
            "_view_module_version": "1.2.0",
            "_view_name": "StyleView",
            "description_width": ""
          }
        },
        "cfb75f2e166044bc99457742a63b0c46": {
          "model_module": "@jupyter-widgets/base",
          "model_module_version": "1.2.0",
          "model_name": "LayoutModel",
          "state": {
            "_model_module": "@jupyter-widgets/base",
            "_model_module_version": "1.2.0",
            "_model_name": "LayoutModel",
            "_view_count": null,
            "_view_module": "@jupyter-widgets/base",
            "_view_module_version": "1.2.0",
            "_view_name": "LayoutView",
            "align_content": null,
            "align_items": null,
            "align_self": null,
            "border": null,
            "bottom": null,
            "display": null,
            "flex": null,
            "flex_flow": null,
            "grid_area": null,
            "grid_auto_columns": null,
            "grid_auto_flow": null,
            "grid_auto_rows": null,
            "grid_column": null,
            "grid_gap": null,
            "grid_row": null,
            "grid_template_areas": null,
            "grid_template_columns": null,
            "grid_template_rows": null,
            "height": null,
            "justify_content": null,
            "justify_items": null,
            "left": null,
            "margin": null,
            "max_height": null,
            "max_width": null,
            "min_height": null,
            "min_width": null,
            "object_fit": null,
            "object_position": null,
            "order": null,
            "overflow": null,
            "overflow_x": null,
            "overflow_y": null,
            "padding": null,
            "right": null,
            "top": null,
            "visibility": null,
            "width": null
          }
        },
        "d82f1ef4558046ba86760282e349f992": {
          "model_module": "@jupyter-widgets/base",
          "model_module_version": "1.2.0",
          "model_name": "LayoutModel",
          "state": {
            "_model_module": "@jupyter-widgets/base",
            "_model_module_version": "1.2.0",
            "_model_name": "LayoutModel",
            "_view_count": null,
            "_view_module": "@jupyter-widgets/base",
            "_view_module_version": "1.2.0",
            "_view_name": "LayoutView",
            "align_content": null,
            "align_items": null,
            "align_self": null,
            "border": null,
            "bottom": null,
            "display": null,
            "flex": null,
            "flex_flow": null,
            "grid_area": null,
            "grid_auto_columns": null,
            "grid_auto_flow": null,
            "grid_auto_rows": null,
            "grid_column": null,
            "grid_gap": null,
            "grid_row": null,
            "grid_template_areas": null,
            "grid_template_columns": null,
            "grid_template_rows": null,
            "height": null,
            "justify_content": null,
            "justify_items": null,
            "left": null,
            "margin": null,
            "max_height": null,
            "max_width": null,
            "min_height": null,
            "min_width": null,
            "object_fit": null,
            "object_position": null,
            "order": null,
            "overflow": null,
            "overflow_x": null,
            "overflow_y": null,
            "padding": null,
            "right": null,
            "top": null,
            "visibility": null,
            "width": null
          }
        },
        "dce75581a2014d219b7b993772b4c3f9": {
          "model_module": "@jupyter-widgets/controls",
          "model_module_version": "1.5.0",
          "model_name": "ProgressStyleModel",
          "state": {
            "_model_module": "@jupyter-widgets/controls",
            "_model_module_version": "1.5.0",
            "_model_name": "ProgressStyleModel",
            "_view_count": null,
            "_view_module": "@jupyter-widgets/base",
            "_view_module_version": "1.2.0",
            "_view_name": "StyleView",
            "bar_color": null,
            "description_width": ""
          }
        },
        "e17c06a505334db1b6ca531c44ff8379": {
          "model_module": "@jupyter-widgets/controls",
          "model_module_version": "1.5.0",
          "model_name": "HTMLModel",
          "state": {
            "_dom_classes": [],
            "_model_module": "@jupyter-widgets/controls",
            "_model_module_version": "1.5.0",
            "_model_name": "HTMLModel",
            "_view_count": null,
            "_view_module": "@jupyter-widgets/controls",
            "_view_module_version": "1.5.0",
            "_view_name": "HTMLView",
            "description": "",
            "description_tooltip": null,
            "layout": "IPY_MODEL_ca3459d6b66d411a850b990939d4741e",
            "placeholder": "​",
            "style": "IPY_MODEL_a9b47a0d77c24cb2aa409720e0baff62",
            "value": "vocab.txt: 100%"
          }
        },
        "e6758f3e2f734839bd0f0ca6d4a20d80": {
          "model_module": "@jupyter-widgets/controls",
          "model_module_version": "1.5.0",
          "model_name": "ProgressStyleModel",
          "state": {
            "_model_module": "@jupyter-widgets/controls",
            "_model_module_version": "1.5.0",
            "_model_name": "ProgressStyleModel",
            "_view_count": null,
            "_view_module": "@jupyter-widgets/base",
            "_view_module_version": "1.2.0",
            "_view_name": "StyleView",
            "bar_color": null,
            "description_width": ""
          }
        },
        "e7c680d119594d80a6d3365c8e340812": {
          "model_module": "@jupyter-widgets/controls",
          "model_module_version": "1.5.0",
          "model_name": "FloatProgressModel",
          "state": {
            "_dom_classes": [],
            "_model_module": "@jupyter-widgets/controls",
            "_model_module_version": "1.5.0",
            "_model_name": "FloatProgressModel",
            "_view_count": null,
            "_view_module": "@jupyter-widgets/controls",
            "_view_module_version": "1.5.0",
            "_view_name": "ProgressView",
            "bar_style": "success",
            "description": "",
            "description_tooltip": null,
            "layout": "IPY_MODEL_a795b907dcf54caba8c2f5db860e205f",
            "max": 267954768,
            "min": 0,
            "orientation": "horizontal",
            "style": "IPY_MODEL_5ec34618fe27478e9d8eab0d69f66c27",
            "value": 267954768
          }
        },
        "eaca44c7df894d0fbe2fa8bea47d7ff1": {
          "model_module": "@jupyter-widgets/base",
          "model_module_version": "1.2.0",
          "model_name": "LayoutModel",
          "state": {
            "_model_module": "@jupyter-widgets/base",
            "_model_module_version": "1.2.0",
            "_model_name": "LayoutModel",
            "_view_count": null,
            "_view_module": "@jupyter-widgets/base",
            "_view_module_version": "1.2.0",
            "_view_name": "LayoutView",
            "align_content": null,
            "align_items": null,
            "align_self": null,
            "border": null,
            "bottom": null,
            "display": null,
            "flex": null,
            "flex_flow": null,
            "grid_area": null,
            "grid_auto_columns": null,
            "grid_auto_flow": null,
            "grid_auto_rows": null,
            "grid_column": null,
            "grid_gap": null,
            "grid_row": null,
            "grid_template_areas": null,
            "grid_template_columns": null,
            "grid_template_rows": null,
            "height": null,
            "justify_content": null,
            "justify_items": null,
            "left": null,
            "margin": null,
            "max_height": null,
            "max_width": null,
            "min_height": null,
            "min_width": null,
            "object_fit": null,
            "object_position": null,
            "order": null,
            "overflow": null,
            "overflow_x": null,
            "overflow_y": null,
            "padding": null,
            "right": null,
            "top": null,
            "visibility": null,
            "width": null
          }
        },
        "f490500a58994b56be3dd233050d6ea7": {
          "model_module": "@jupyter-widgets/base",
          "model_module_version": "1.2.0",
          "model_name": "LayoutModel",
          "state": {
            "_model_module": "@jupyter-widgets/base",
            "_model_module_version": "1.2.0",
            "_model_name": "LayoutModel",
            "_view_count": null,
            "_view_module": "@jupyter-widgets/base",
            "_view_module_version": "1.2.0",
            "_view_name": "LayoutView",
            "align_content": null,
            "align_items": null,
            "align_self": null,
            "border": null,
            "bottom": null,
            "display": null,
            "flex": null,
            "flex_flow": null,
            "grid_area": null,
            "grid_auto_columns": null,
            "grid_auto_flow": null,
            "grid_auto_rows": null,
            "grid_column": null,
            "grid_gap": null,
            "grid_row": null,
            "grid_template_areas": null,
            "grid_template_columns": null,
            "grid_template_rows": null,
            "height": null,
            "justify_content": null,
            "justify_items": null,
            "left": null,
            "margin": null,
            "max_height": null,
            "max_width": null,
            "min_height": null,
            "min_width": null,
            "object_fit": null,
            "object_position": null,
            "order": null,
            "overflow": null,
            "overflow_x": null,
            "overflow_y": null,
            "padding": null,
            "right": null,
            "top": null,
            "visibility": null,
            "width": null
          }
        },
        "f70cd96c536841e5917a507731958b3b": {
          "model_module": "@jupyter-widgets/controls",
          "model_module_version": "1.5.0",
          "model_name": "HBoxModel",
          "state": {
            "_dom_classes": [],
            "_model_module": "@jupyter-widgets/controls",
            "_model_module_version": "1.5.0",
            "_model_name": "HBoxModel",
            "_view_count": null,
            "_view_module": "@jupyter-widgets/controls",
            "_view_module_version": "1.5.0",
            "_view_name": "HBoxView",
            "box_style": "",
            "children": [
              "IPY_MODEL_924f99f2ac89416b96903fddbb2f83a9",
              "IPY_MODEL_9fc21e3c96984b548f18d8dcd70fb603",
              "IPY_MODEL_54b427d134b145e09070d4930c781b2f"
            ],
            "layout": "IPY_MODEL_eaca44c7df894d0fbe2fa8bea47d7ff1"
          }
        }
      }
    }
  },
  "nbformat": 4,
  "nbformat_minor": 0
}
